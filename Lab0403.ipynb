{
  "nbformat": 4,
  "nbformat_minor": 0,
  "metadata": {
    "colab": {
      "provenance": []
    },
    "kernelspec": {
      "name": "python3",
      "display_name": "Python 3"
    },
    "language_info": {
      "name": "python"
    }
  },
  "cells": [
    {
      "cell_type": "code",
      "execution_count": null,
      "metadata": {
        "id": "_LU1uNa2Nruo"
      },
      "outputs": [],
      "source": [
        "\"\"\"\n",
        "A. Tham khảo hưỡng dẫn về GNN tại:\n",
        "+ https://viblo.asia/p/gioi-thieu-ve-graph-neural-networks-gnns-yZjJYG7MVOE\n",
        "+ https://docs.dgl.ai/en/0.8.x/tutorials/blitz/4_link_predict.html\n",
        "+ https://arxiv.org/ftp/arxiv/papers/1812/1812.08434.pdf\n",
        "\n",
        "\n",
        "B. Yêu cầu:\n",
        "1. Tìm hiểu và trình bày tổng quan về GNN\n",
        "2. Sử dụng GCN để dự đoán liên kết mạng xã hội mầ bạn lựa chọn\n",
        "+ https://stellargraph.readthedocs.io/en/stable/demos/link-prediction/gcn-link-prediction.html\n",
        "3. Đánh giá kết quả giữa GCN và các phương pháp trong LAB 04.01 / 04.02\n",
        "\"\"\""
      ]
    },
    {
      "cell_type": "code",
      "source": [],
      "metadata": {
        "id": "ay4OOizMNwHt"
      },
      "execution_count": null,
      "outputs": []
    },
    {
      "cell_type": "markdown",
      "source": [
        "1.Graph Neural Networks (GNN) là một nhánh quan trọng của học sâu, được thiết kế đặc biệt để xử lý dữ liệu đồ thị. Không giống như dữ liệu dạng bảng, hình ảnh hay chuỗi thời gian có cấu trúc rõ ràng, dữ liệu đồ thị mang tính phi cấu trúc và có thể mô tả các mối quan hệ phức tạp giữa các đối tượng thông qua đỉnh (nodes) và cạnh (edges).\n",
        "\n",
        "Với khả năng biểu diễn mối quan hệ và tương tác giữa các phần tử, GNN cho phép khai thác và học được các đặc trưng ẩn sâu trong cấu trúc đồ thị, từ đó giải quyết các bài toán đa dạng và có tính ứng dụng cao trong thực tế như: mạng xã hội, hệ thống giao thông, phân tích protein, phát hiện gian lận, và nhiều lĩnh vực khác.\n",
        "2.\n"
      ],
      "metadata": {
        "id": "VccnOixnQ7wv"
      }
    }
  ]
}