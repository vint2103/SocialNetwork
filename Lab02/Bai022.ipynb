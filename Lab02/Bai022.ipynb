{
  "nbformat": 4,
  "nbformat_minor": 0,
  "metadata": {
    "colab": {
      "private_outputs": true,
      "provenance": []
    },
    "kernelspec": {
      "name": "python3",
      "display_name": "Python 3"
    },
    "language_info": {
      "name": "python"
    }
  },
  "cells": [
    {
      "cell_type": "code",
      "execution_count": null,
      "metadata": {
        "id": "ZdzfReJYeJFn"
      },
      "outputs": [],
      "source": [
        "import networkx as nx\n",
        "import pandas as pd\n",
        "import numpy as np\n",
        "import matplotlib.pyplot as plt\n",
        "import zipfile\n",
        "import requests\n",
        "import io\n",
        "import time"
      ]
    },
    {
      "cell_type": "code",
      "source": [
        "def download_and_read_data():\n",
        "    \"\"\"\n",
        "    Tải và đọc dữ liệu mạng các trang Facebook về thực phẩm\n",
        "    Returns:\n",
        "        DataFrame: Chứa các cạnh của đồ thị\n",
        "    \"\"\"\n",
        "    print(\"Đang tải dữ liệu Facebook Food Pages Network...\")\n",
        "\n",
        "    # URL của dataset\n",
        "    url = \"https://nrvis.com/download/data/soc/fb-pages-food.zip\"\n",
        "\n",
        "    try:\n",
        "        # Tải dữ liệu\n",
        "        response = requests.get(url)\n",
        "        if response.status_code == 200:\n",
        "            # Đọc file zip\n",
        "            z = zipfile.ZipFile(io.BytesIO(response.content))\n",
        "\n",
        "            # Đọc dữ liệu từ file trong zip\n",
        "            df = pd.read_csv(z.open('fb-pages-food.edges'),\n",
        "                           sep=' ',\n",
        "                           names=['source', 'target'])\n",
        "            return df\n",
        "        else:\n",
        "            raise Exception(\"Không thể tải dữ liệu\")\n",
        "    except Exception as e:\n",
        "        print(f\"Lỗi khi tải dữ liệu: {e}\")\n",
        "        return None"
      ],
      "metadata": {
        "id": "RVsm37_ziHwT"
      },
      "execution_count": null,
      "outputs": []
    },
    {
      "cell_type": "code",
      "source": [
        "def analyze_network(G):\n",
        "    \"\"\"\n",
        "    Phân tích đặc trưng của mạng các trang Facebook\n",
        "    Args:\n",
        "        G: Đồ thị NetworkX\n",
        "    Returns:\n",
        "        dict: Các số đo của mạng\n",
        "    \"\"\"\n",
        "    metrics = {}\n",
        "\n",
        "    # 1. Thông tin cơ bản\n",
        "    print(\"\\nĐang tính toán thông tin cơ bản...\")\n",
        "    metrics['nodes'] = G.number_of_nodes()  # Số lượng trang\n",
        "    metrics['edges'] = G.number_of_edges()  # Số lượng liên kết\n",
        "    metrics['density'] = nx.density(G)      # Mật độ liên kết\n",
        "\n",
        "    # 2. Degree Analysis\n",
        "    print(\"Đang tính toán degree metrics...\")\n",
        "    start_time = time.time()\n",
        "    degrees = dict(G.degree())\n",
        "    metrics['avg_degree'] = np.mean(list(degrees.values()))\n",
        "    metrics['max_degree'] = max(degrees.values())\n",
        "    metrics['degrees'] = degrees\n",
        "    print(f\"Thời gian tính Degree metrics: {time.time() - start_time:.2f}s\")\n",
        "\n",
        "    # 3. Degree Centrality\n",
        "    print(\"Đang tính toán Degree Centrality...\")\n",
        "    start_time = time.time()\n",
        "    dc = nx.degree_centrality(G)\n",
        "    metrics['degree_centrality'] = {\n",
        "        'values': dc,\n",
        "        'max': max(dc.values()),\n",
        "        'avg': sum(dc.values()) / len(dc),\n",
        "        'top_pages': sorted(dc.items(), key=lambda x: x[1], reverse=True)[:10]\n",
        "    }\n",
        "    print(f\"Thời gian tính Degree Centrality: {time.time() - start_time:.2f}s\")\n",
        "\n",
        "    # 4. Betweenness Centrality\n",
        "    print(\"Đang tính toán Betweenness Centrality...\")\n",
        "    start_time = time.time()\n",
        "    bc = nx.betweenness_centrality(G)\n",
        "    metrics['betweenness_centrality'] = {\n",
        "        'values': bc,\n",
        "        'max': max(bc.values()),\n",
        "        'avg': sum(bc.values()) / len(bc),\n",
        "        'top_pages': sorted(bc.items(), key=lambda x: x[1], reverse=True)[:10]\n",
        "    }\n",
        "    print(f\"Thời gian tính Betweenness Centrality: {time.time() - start_time:.2f}s\")\n",
        "\n",
        "    # 5. Closeness Centrality\n",
        "    print(\"Đang tính toán Closeness Centrality...\")\n",
        "    start_time = time.time()\n",
        "    cc = nx.closeness_centrality(G)\n",
        "    metrics['closeness_centrality'] = {\n",
        "        'values': cc,\n",
        "        'max': max(cc.values()),\n",
        "        'avg': sum(cc.values()) / len(cc),\n",
        "        'top_pages': sorted(cc.items(), key=lambda x: x[1], reverse=True)[:10]\n",
        "    }\n",
        "    print(f\"Thời gian tính Closeness Centrality: {time.time() - start_time:.2f}s\")\n",
        "\n",
        "    # 6. PageRank\n",
        "    print(\"Đang tính toán PageRank...\")\n",
        "    start_time = time.time()\n",
        "    pr = nx.pagerank(G, alpha=0.85)\n",
        "    metrics['pagerank'] = {\n",
        "        'values': pr,\n",
        "        'max': max(pr.values()),\n",
        "        'avg': sum(pr.values()) / len(pr),\n",
        "        'top_pages': sorted(pr.items(), key=lambda x: x[1], reverse=True)[:10]\n",
        "    }\n",
        "    print(f\"Thời gian tính PageRank: {time.time() - start_time:.2f}s\")\n",
        "\n",
        "    return metrics"
      ],
      "metadata": {
        "id": "U-v-3xh4irCG"
      },
      "execution_count": null,
      "outputs": []
    },
    {
      "cell_type": "code",
      "source": [
        "def print_results(metrics):\n",
        "    \"\"\"\n",
        "    In kết quả phân tích\n",
        "    \"\"\"\n",
        "    print(\"\\nKẾT QUẢ PHÂN TÍCH MẠNG FACEBOOK FOOD PAGES\")\n",
        "    print(\"=\" * 50)\n",
        "\n",
        "    print(\"\\n1. THÔNG TIN CƠ BẢN\")\n",
        "    print(\"-\" * 30)\n",
        "    print(f\"Số lượng trang: {metrics['nodes']:,}\")\n",
        "    print(f\"Số lượng liên kết: {metrics['edges']:,}\")\n",
        "    print(f\"Mật độ mạng: {metrics['density']:.6f}\")\n",
        "    print(f\"Số liên kết trung bình/trang: {metrics['avg_degree']:.2f}\")\n",
        "    print(f\"Số liên kết nhiều nhất: {metrics['max_degree']}\")\n",
        "\n",
        "    print(\"\\n2. PHÂN TÍCH CENTRALITY\")\n",
        "    centrality_measures = {\n",
        "        'Degree Centrality': 'degree_centrality',\n",
        "        'Betweenness Centrality': 'betweenness_centrality',\n",
        "        'Closeness Centrality': 'closeness_centrality',\n",
        "        'PageRank': 'pagerank'\n",
        "    }\n",
        "\n",
        "    for name, measure in centrality_measures.items():\n",
        "        print(f\"\\n{name}:\")\n",
        "        print(f\"- Giá trị trung bình: {metrics[measure]['avg']:.6f}\")\n",
        "        print(f\"- Giá trị lớn nhất: {metrics[measure]['max']:.6f}\")\n",
        "        print(\"\\nTop 5 trang có giá trị cao nhất:\")\n",
        "        for page, score in metrics[measure]['top_pages'][:5]:\n",
        "            print(f\"Page {page}: {score:.6f}\")\n"
      ],
      "metadata": {
        "id": "BEvYzuU_jB4E"
      },
      "execution_count": null,
      "outputs": []
    },
    {
      "cell_type": "code",
      "source": [
        "# Tải dữ liệu\n",
        "edges_df = download_and_read_data()\n",
        "\n",
        "# Tạo đồ thị có hướng\n",
        "print(\"Đang tạo đồ thị...\")\n",
        "G = nx.from_pandas_edgelist(edges_df, 'source', 'target', create_using=nx.DiGraph())"
      ],
      "metadata": {
        "id": "IFiN1w_rjZkd"
      },
      "execution_count": null,
      "outputs": []
    },
    {
      "cell_type": "code",
      "source": [
        "# Phân tích mạng\n",
        "metrics = analyze_network(G)"
      ],
      "metadata": {
        "id": "usQnO4UFjhtV"
      },
      "execution_count": null,
      "outputs": []
    },
    {
      "cell_type": "code",
      "source": [
        "# In kết quả\n",
        "print_results(metrics)"
      ],
      "metadata": {
        "id": "BJMn-6Xfjjn-"
      },
      "execution_count": null,
      "outputs": []
    },
    {
      "cell_type": "code",
      "source": [],
      "metadata": {
        "id": "EphlVtXRk8CZ"
      },
      "execution_count": null,
      "outputs": []
    }
  ]
}