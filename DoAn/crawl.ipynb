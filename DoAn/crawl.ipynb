{
 "cells": [
  {
   "cell_type": "code",
   "execution_count": 1,
   "metadata": {},
   "outputs": [],
   "source": [
    "from selenium import webdriver\n",
    "from selenium.webdriver.common.by import By\n",
    "from selenium.webdriver.common.action_chains import ActionChains\n",
    "from selenium.webdriver.chrome.service import Service\n",
    "from selenium.webdriver.support.ui import WebDriverWait\n",
    "from selenium.webdriver.support import expected_conditions as EC\n",
    "import pandas as pd\n",
    "import time\n",
    "import requests\n",
    "from bs4 import BeautifulSoup"
   ]
  },
  {
   "cell_type": "code",
   "execution_count": 3,
   "metadata": {},
   "outputs": [
    {
     "name": "stderr",
     "output_type": "stream",
     "text": [
      "C:\\Users\\huyma\\AppData\\Local\\Temp\\ipykernel_25124\\529495674.py:25: DeprecationWarning: using WebElement.get_attribute() has been deprecated. Please use get_dom_attribute() instead.\n",
      "  href = link.get_attribute(\"href\")\n"
     ]
    },
    {
     "name": "stdout",
     "output_type": "stream",
     "text": [
      "Đã nhấn nút 'Load more' 1 lần.\n",
      "Đã nhấn nút 'Load more' 2 lần.\n",
      "Đã nhấn nút 'Load more' 3 lần.\n",
      "Đã nhấn nút 'Load more' 4 lần.\n",
      "Đã nhấn nút 'Load more' 5 lần.\n",
      "Đã nhấn nút 'Load more' 6 lần.\n",
      "Đã nhấn nút 'Load more' 7 lần.\n",
      "Đã nhấn nút 'Load more' 8 lần.\n",
      "Đã nhấn nút 'Load more' 9 lần.\n",
      "Đã nhấn nút 'Load more' 10 lần.\n",
      "Đã nhấn nút 'Load more' 11 lần.\n",
      "Đã nhấn nút 'Load more' 12 lần.\n",
      "Đã nhấn nút 'Load more' 13 lần.\n",
      "Đã nhấn nút 'Load more' 14 lần.\n",
      "Đã nhấn nút 'Load more' 15 lần.\n",
      "Đã thu thập 344 link phim.\n"
     ]
    }
   ],
   "source": [
    "\n",
    "\n",
    "# Thiết lập đường dẫn ChromeDriver\n",
    "driver_path = \"C:/thaiduong/SocialNetwork/Thuchanh/Tuan1/chromedriver.exe\"\n",
    "service = Service(driver_path)\n",
    "\n",
    "# Cấu hình WebDriver\n",
    "driver = webdriver.Chrome(service=service)\n",
    "\n",
    "# Mở trang Rotten Tomatoes\n",
    "url = \"https://www.rottentomatoes.com/browse/movies_at_home/sort:popular\"\n",
    "driver.get(url)\n",
    "\n",
    "# Tạo danh sách để lưu link phim\n",
    "movie_links = set()\n",
    "\n",
    "# Giới hạn số lần nhấn nút \"Load more\"\n",
    "max_clicks = 15  # Giới hạn tối đa 15 lần nhấn nút\n",
    "click_count = 0\n",
    "\n",
    "while click_count < max_clicks:\n",
    "    # Lấy tất cả các link phim hiện tại\n",
    "    links = driver.find_elements(\n",
    "        By.CSS_SELECTOR, \"a[data-qa='discovery-media-list-item-caption']\"\n",
    "    )\n",
    "    for link in links:\n",
    "        href = link.get_attribute(\"href\")\n",
    "        if href and \"/m/\" in href:\n",
    "            movie_links.add(href)\n",
    "\n",
    "    # Tìm nút \"Load more\" với WebDriverWait\n",
    "    try:\n",
    "        wait = WebDriverWait(driver, 10)  # Đợi tối đa 10 giây\n",
    "        load_more_button = wait.until(\n",
    "            EC.element_to_be_clickable(\n",
    "                (By.CSS_SELECTOR, \"button[data-qa='dlp-load-more-button']\")\n",
    "            )\n",
    "        )\n",
    "        load_more_button.click()\n",
    "        click_count += 1\n",
    "        print(f\"Đã nhấn nút 'Load more' {click_count} lần.\")\n",
    "        time.sleep(2)  # Đợi nội dung mới tải\n",
    "    except Exception as e:\n",
    "        print(f\"Không tìm thấy nút 'Load more' hoặc đã tải xong tất cả các phim: {e}\")\n",
    "        break\n",
    "\n",
    "# Đóng trình duyệt\n",
    "driver.quit()\n",
    "\n",
    "# Kiểm tra danh sách link phim\n",
    "print(f\"Đã thu thập {len(movie_links)} link phim.\")\n",
    "\n",
    "# Lưu link phim vào file CSV\n",
    "\n",
    "\n",
    "\n"
   ]
  },
  {
   "cell_type": "code",
   "execution_count": 4,
   "metadata": {},
   "outputs": [
    {
     "name": "stdout",
     "output_type": "stream",
     "text": [
      "Đã nhấn nút 'Load more' 1 lần.\n"
     ]
    },
    {
     "name": "stderr",
     "output_type": "stream",
     "text": [
      "C:\\Users\\huyma\\AppData\\Local\\Temp\\ipykernel_25124\\3106511635.py:25: DeprecationWarning: using WebElement.get_attribute() has been deprecated. Please use get_dom_attribute() instead.\n",
      "  href = link.get_attribute(\"href\")\n"
     ]
    },
    {
     "name": "stdout",
     "output_type": "stream",
     "text": [
      "Đã nhấn nút 'Load more' 2 lần.\n",
      "Đã nhấn nút 'Load more' 3 lần.\n",
      "Đã nhấn nút 'Load more' 4 lần.\n",
      "Đã nhấn nút 'Load more' 5 lần.\n",
      "Đã nhấn nút 'Load more' 6 lần.\n",
      "Đã nhấn nút 'Load more' 7 lần.\n",
      "Đã nhấn nút 'Load more' 8 lần.\n",
      "Đã nhấn nút 'Load more' 9 lần.\n",
      "Đã nhấn nút 'Load more' 10 lần.\n",
      "Đã nhấn nút 'Load more' 11 lần.\n",
      "Đã nhấn nút 'Load more' 12 lần.\n",
      "Đã nhấn nút 'Load more' 13 lần.\n",
      "Đã nhấn nút 'Load more' 14 lần.\n",
      "Đã nhấn nút 'Load more' 15 lần.\n",
      "Đã thu thập 451 link phim.\n"
     ]
    }
   ],
   "source": [
    "\n",
    "# Thiết lập đường dẫn ChromeDriver\n",
    "driver_path = \"C:/thaiduong/SocialNetwork/Thuchanh/Tuan1/chromedriver.exe\"\n",
    "service = Service(driver_path)\n",
    "\n",
    "# Cấu hình WebDriver\n",
    "driver = webdriver.Chrome(service=service)\n",
    "\n",
    "\n",
    "url = \"https://www.rottentomatoes.com/browse/movies_at_home/affiliates:fandango-at-home\"\n",
    "driver.get(url)\n",
    "\n",
    "# Tạo danh sách để lưu link phim\n",
    "\n",
    "\n",
    "# Giới hạn số lần nhấn nút \"Load more\"\n",
    "max_clicks = 15  # Giới hạn tối đa 15 lần nhấn nút\n",
    "click_count = 0\n",
    "\n",
    "while click_count < max_clicks:\n",
    "    # Lấy tất cả các link phim hiện tại\n",
    "    links = driver.find_elements(\n",
    "        By.CSS_SELECTOR, \"a[data-qa='discovery-media-list-item-caption']\"\n",
    "    )\n",
    "    for link in links:\n",
    "        href = link.get_attribute(\"href\")\n",
    "        if href and \"/m/\" in href:\n",
    "            movie_links.add(href)\n",
    "\n",
    "    # Tìm nút \"Load more\" với WebDriverWait\n",
    "    try:\n",
    "        wait = WebDriverWait(driver, 10)  # Đợi tối đa 10 giây\n",
    "        load_more_button = wait.until(\n",
    "            EC.element_to_be_clickable(\n",
    "                (By.CSS_SELECTOR, \"button[data-qa='dlp-load-more-button']\")\n",
    "            )\n",
    "        )\n",
    "        load_more_button.click()\n",
    "        click_count += 1\n",
    "        print(f\"Đã nhấn nút 'Load more' {click_count} lần.\")\n",
    "        time.sleep(2)  # Đợi nội dung mới tải\n",
    "    except Exception as e:\n",
    "        print(f\"Không tìm thấy nút 'Load more' hoặc đã tải xong tất cả các phim: {e}\")\n",
    "        break\n",
    "\n",
    "# Đóng trình duyệt\n",
    "driver.quit()\n",
    "\n",
    "# Kiểm tra danh sách link phim\n",
    "print(f\"Đã thu thập {len(movie_links)} link phim.\")\n",
    "\n"
   ]
  },
  {
   "cell_type": "code",
   "execution_count": 6,
   "metadata": {},
   "outputs": [
    {
     "name": "stdout",
     "output_type": "stream",
     "text": [
      "Đang lấy dữ liệu từ: https://editorial.rottentomatoes.com/guide/best-sports-movie-of-all-time/\n",
      "Đang lấy dữ liệu từ: https://editorial.rottentomatoes.com/guide/best-movies-of-all-time/\n",
      "Đang lấy dữ liệu từ: https://editorial.rottentomatoes.com/article/most-anticipated-movies-of-2022/\n",
      "Đang lấy dữ liệu từ: https://editorial.rottentomatoes.com/guide/2022-horror-movies-ranked/\n",
      "Đang lấy dữ liệu từ: https://editorial.rottentomatoes.com/gallery/24-worst-movie-remakes-by-tomatometer/\n",
      "Đang lấy dữ liệu từ: https://editorial.rottentomatoes.com/guide/sexiest-movies/\n",
      "Đã thu thập 1097 link phim.\n"
     ]
    }
   ],
   "source": [
    "import requests\n",
    "from bs4 import BeautifulSoup\n",
    "\n",
    "# Danh sách các URL cần lấy thông tin\n",
    "urls = [\n",
    "    \"https://editorial.rottentomatoes.com/guide/best-sports-movie-of-all-time/\",\n",
    "    \"https://editorial.rottentomatoes.com/guide/best-movies-of-all-time/\",\n",
    "    \"https://editorial.rottentomatoes.com/article/most-anticipated-movies-of-2022/\",\n",
    "    \"https://editorial.rottentomatoes.com/guide/2022-horror-movies-ranked/\",\n",
    "    \"https://editorial.rottentomatoes.com/gallery/24-worst-movie-remakes-by-tomatometer/\",\n",
    "    \"https://editorial.rottentomatoes.com/guide/sexiest-movies/\",\n",
    "]\n",
    "\n",
    "\n",
    "# Duyệt qua từng URL trong danh sách\n",
    "for url in urls:\n",
    "    print(f\"Đang lấy dữ liệu từ: {url}\")\n",
    "\n",
    "    # Gửi request đến trang web\n",
    "    headers = {\"User-Agent\": \"Mozilla/5.0\"}\n",
    "    response = requests.get(url, headers=headers)\n",
    "\n",
    "    # Kiểm tra kết nối\n",
    "    if response.status_code == 200:\n",
    "        soup = BeautifulSoup(response.content, \"html.parser\")\n",
    "    else:\n",
    "        print(f\"Không thể kết nối tới trang: {url}\")\n",
    "        continue\n",
    "\n",
    "    # Tìm tất cả các thẻ <a> chứa link phim\n",
    "    for tag in soup.find_all(\"a\"):\n",
    "        href = tag.get(\"href\")\n",
    "        if href and \"/m/\" in href:  # Chỉ lấy link phim có chứa \"/m/\"\n",
    "            movie_links.add(href)\n",
    "\n",
    "# Kiểm tra kết quả\n",
    "print(f\"Đã thu thập {len(movie_links)} link phim.\")"
   ]
  },
  {
   "cell_type": "code",
   "execution_count": 7,
   "metadata": {},
   "outputs": [
    {
     "name": "stdout",
     "output_type": "stream",
     "text": [
      "Dữ liệu đã được lưu vào rottentomatoes_movie_links.csv\n"
     ]
    },
    {
     "ename": "",
     "evalue": "",
     "output_type": "error",
     "traceback": [
      "\u001b[1;31mThe Kernel crashed while executing code in the current cell or a previous cell. \n",
      "\u001b[1;31mPlease review the code in the cell(s) to identify a possible cause of the failure. \n",
      "\u001b[1;31mClick <a href='https://aka.ms/vscodeJupyterKernelCrash'>here</a> for more info. \n",
      "\u001b[1;31mView Jupyter <a href='command:jupyter.viewOutput'>log</a> for further details."
     ]
    }
   ],
   "source": [
    "df = pd.DataFrame(list(movie_links), columns=[\"Movie Links\"])\n",
    "output_file = \"rottentomatoes_movie_links.csv\"\n",
    "df.to_csv(output_file, index=False, encoding=\"utf-8\")\n",
    "print(f\"Dữ liệu đã được lưu vào {output_file}\")"
   ]
  },
  {
   "cell_type": "code",
   "execution_count": null,
   "metadata": {},
   "outputs": [],
   "source": []
  }
 ],
 "metadata": {
  "kernelspec": {
   "display_name": "tduong",
   "language": "python",
   "name": "python3"
  },
  "language_info": {
   "codemirror_mode": {
    "name": "ipython",
    "version": 3
   },
   "file_extension": ".py",
   "mimetype": "text/x-python",
   "name": "python",
   "nbconvert_exporter": "python",
   "pygments_lexer": "ipython3",
   "version": "3.10.11"
  }
 },
 "nbformat": 4,
 "nbformat_minor": 2
}
